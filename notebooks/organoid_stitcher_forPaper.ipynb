{
 "cells": [
  {
   "cell_type": "markdown",
   "metadata": {},
   "source": [
    "# Image Stitcher\n",
    "___\n",
    "**Fordyce Lab**, **2019**"
   ]
  },
  {
   "cell_type": "markdown",
   "metadata": {},
   "source": [
    "## Imports"
   ]
  },
  {
   "cell_type": "code",
   "execution_count": 1,
   "metadata": {
    "collapsed": true
   },
   "outputs": [],
   "source": [
    "import sys\n",
    "sys.path.insert(0, '/home/users/aadams0/microwell_code/ImageStitcher-master/')\n",
    "import pandas as pd\n",
    "from imagestitcher import stitcher"
   ]
  },
  {
   "cell_type": "markdown",
   "metadata": {},
   "source": [
    "## FF Corrections"
   ]
  },
  {
   "cell_type": "markdown",
   "metadata": {},
   "source": [
    "## Stitching Settings"
   ]
  },
  {
   "cell_type": "code",
   "execution_count": 2,
   "metadata": {
    "collapsed": true,
    "scrolled": false
   },
   "outputs": [],
   "source": [
    "#optional flatfield correction parameters\n",
    "# ffPath = '/home/eMITOMI/Support_Data/FF_Correction/Setup3/180401_Setup3_FFcorr_eGFP_4s_2x2.tif'\n",
    "# ffParams = {'4egfp':{500: (201, 21663), 2000: (2778, 19086)}}\n",
    "\n",
    "settings = stitcher.StitchingSettings(ffPaths = {},\n",
    "                                        ffParams = None,\n",
    "                                        setupNum= 3,\n",
    "                                        tileDim = 1024\n",
    "                                     )\n",
    "\n",
    "settings.showFFImages(vmin = 0, vmax = 45000)"
   ]
  },
  {
   "cell_type": "code",
   "execution_count": null,
   "metadata": {
    "collapsed": true
   },
   "outputs": [],
   "source": []
  },
  {
   "cell_type": "markdown",
   "metadata": {},
   "source": [
    "## Single Image Stitching"
   ]
  },
  {
   "cell_type": "code",
   "execution_count": 13,
   "metadata": {
    "scrolled": true
   },
   "outputs": [
    {
     "name": "stderr",
     "output_type": "stream",
     "text": [
      "22-01-16 07:18:12 INFO     Stitching images | Ch: bf, Exp: 500, Overlap: 0.05, Rot: 0\n"
     ]
    }
   ],
   "source": [
    "path = '/scratch/users/aadams0/raw_imaging_data/new/repeat_4230_P53_ARID1A_20200227/B4/20200303-113924-B4_timecourse/2bf/20200303-113924_timecourse_2bf'\n",
    "\n",
    "params = stitcher.RasterParams(path, 'ipnb', 0.05, 500, 'bf', 3, autoFF = False)\n",
    "stitcher.stitchImage(path, params)"
   ]
  },
  {
   "cell_type": "markdown",
   "metadata": {},
   "source": [
    "## Multi-Folder Stitching"
   ]
  },
  {
   "cell_type": "code",
   "execution_count": 3,
   "metadata": {},
   "outputs": [
    {
     "name": "stderr",
     "output_type": "stream",
     "text": [
      "22-03-18 09:01:47 INFO     Stitching images | Ch: 5cy5, Exp: 500, Overlap: 0.05, Rot: 0\n",
      "22-03-18 09:02:17 INFO     Stitching images | Ch: 2bf, Exp: 500, Overlap: 0.05, Rot: 0\n",
      "22-03-18 09:02:42 INFO     Stitching images | Ch: 5cy5, Exp: 500, Overlap: 0.05, Rot: 0\n",
      "22-03-18 09:03:12 INFO     Stitching images | Ch: 2bf, Exp: 500, Overlap: 0.05, Rot: 0\n",
      "22-03-18 09:03:39 INFO     Stitching images | Ch: 5cy5, Exp: 500, Overlap: 0.05, Rot: 0\n",
      "22-03-18 09:04:00 INFO     Stitching images | Ch: 2bf, Exp: 500, Overlap: 0.05, Rot: 0\n",
      "22-03-18 09:04:27 INFO     Stitching images | Ch: 5cy5, Exp: 500, Overlap: 0.05, Rot: 0\n",
      "22-03-18 09:05:27 INFO     Stitching images | Ch: 2bf, Exp: 500, Overlap: 0.05, Rot: 0\n",
      "22-03-18 09:05:56 INFO     Stitching images | Ch: 5cy5, Exp: 500, Overlap: 0.05, Rot: 0\n",
      "22-03-18 09:06:24 INFO     Stitching images | Ch: 2bf, Exp: 500, Overlap: 0.05, Rot: 0\n",
      "22-03-18 09:07:10 INFO     Stitching images | Ch: 5cy5, Exp: 500, Overlap: 0.05, Rot: 0\n",
      "22-03-18 09:07:29 INFO     Stitching images | Ch: 2bf, Exp: 500, Overlap: 0.05, Rot: 0\n",
      "22-03-18 09:07:58 INFO     Stitching images | Ch: 5cy5, Exp: 500, Overlap: 0.05, Rot: 0\n",
      "22-03-18 09:08:26 INFO     Stitching images | Ch: 2bf, Exp: 500, Overlap: 0.05, Rot: 0\n",
      "22-03-18 09:08:53 INFO     Stitching images | Ch: 5cy5, Exp: 500, Overlap: 0.05, Rot: 0\n",
      "22-03-18 09:09:22 INFO     Stitching images | Ch: 2bf, Exp: 500, Overlap: 0.05, Rot: 0\n",
      "22-03-18 09:09:53 INFO     Stitching images | Ch: 5cy5, Exp: 500, Overlap: 0.05, Rot: 0\n",
      "22-03-18 09:10:19 INFO     Stitching images | Ch: 2bf, Exp: 500, Overlap: 0.05, Rot: 0\n",
      "22-03-18 09:10:42 INFO     Stitching images | Ch: 5cy5, Exp: 500, Overlap: 0.05, Rot: 0\n",
      "22-03-18 09:11:23 INFO     Stitching images | Ch: 2bf, Exp: 500, Overlap: 0.05, Rot: 0\n",
      "22-03-18 09:13:08 INFO     Stitching images | Ch: 5cy5, Exp: 500, Overlap: 0.05, Rot: 0\n",
      "22-03-18 09:13:34 INFO     Stitching images | Ch: 2bf, Exp: 500, Overlap: 0.05, Rot: 0\n",
      "22-03-18 09:14:08 INFO     Stitching images | Ch: 5cy5, Exp: 500, Overlap: 0.05, Rot: 0\n",
      "22-03-18 09:16:07 INFO     Stitching images | Ch: 2bf, Exp: 500, Overlap: 0.05, Rot: 0\n",
      "22-03-18 09:16:34 INFO     Stitching images | Ch: 5cy5, Exp: 500, Overlap: 0.05, Rot: 0\n",
      "22-03-18 09:17:05 INFO     Stitching images | Ch: 2bf, Exp: 500, Overlap: 0.05, Rot: 0\n",
      "22-03-18 09:17:32 INFO     Stitching images | Ch: 5cy5, Exp: 500, Overlap: 0.05, Rot: 0\n",
      "22-03-18 09:17:52 INFO     Stitching images | Ch: 2bf, Exp: 500, Overlap: 0.05, Rot: 0\n",
      "22-03-18 09:18:17 INFO     Stitching images | Ch: 5cy5, Exp: 500, Overlap: 0.05, Rot: 0\n",
      "22-03-18 09:18:43 INFO     Stitching images | Ch: 2bf, Exp: 500, Overlap: 0.05, Rot: 0\n",
      "22-03-18 09:19:04 INFO     Stitching images | Ch: 5cy5, Exp: 500, Overlap: 0.05, Rot: 0\n",
      "22-03-18 09:19:30 INFO     Stitching images | Ch: 2bf, Exp: 500, Overlap: 0.05, Rot: 0\n",
      "22-03-18 09:19:55 INFO     Stitching images | Ch: 5cy5, Exp: 500, Overlap: 0.05, Rot: 0\n",
      "22-03-18 09:20:23 INFO     Stitching images | Ch: 2bf, Exp: 500, Overlap: 0.05, Rot: 0\n",
      "22-03-18 09:20:48 INFO     Stitching images | Ch: 5cy5, Exp: 500, Overlap: 0.05, Rot: 0\n",
      "22-03-18 09:21:05 INFO     Stitching images | Ch: 2bf, Exp: 500, Overlap: 0.05, Rot: 0\n",
      "22-03-18 09:21:33 INFO     Stitching images | Ch: 5cy5, Exp: 500, Overlap: 0.05, Rot: 0\n",
      "22-03-18 09:21:55 INFO     Stitching images | Ch: 2bf, Exp: 500, Overlap: 0.05, Rot: 0\n",
      "22-03-18 09:22:18 INFO     Stitching images | Ch: 5cy5, Exp: 500, Overlap: 0.05, Rot: 0\n",
      "22-03-18 09:22:39 INFO     Stitching images | Ch: 2bf, Exp: 500, Overlap: 0.05, Rot: 0\n",
      "22-03-18 09:23:05 INFO     Stitching images | Ch: 5cy5, Exp: 500, Overlap: 0.05, Rot: 0\n",
      "22-03-18 09:23:37 INFO     Stitching images | Ch: 2bf, Exp: 500, Overlap: 0.05, Rot: 0\n",
      "22-03-18 09:24:01 INFO     Stitching images | Ch: 5cy5, Exp: 500, Overlap: 0.05, Rot: 0\n",
      "22-03-18 09:24:25 INFO     Stitching images | Ch: 2bf, Exp: 500, Overlap: 0.05, Rot: 0\n",
      "22-03-18 09:24:54 INFO     Stitching images | Ch: 5cy5, Exp: 500, Overlap: 0.05, Rot: 0\n",
      "22-03-18 09:25:17 INFO     Stitching images | Ch: 2bf, Exp: 500, Overlap: 0.05, Rot: 0\n",
      "22-03-18 09:25:41 INFO     Stitching images | Ch: 5cy5, Exp: 500, Overlap: 0.05, Rot: 0\n",
      "22-03-18 09:26:16 INFO     Stitching images | Ch: 2bf, Exp: 500, Overlap: 0.05, Rot: 0\n",
      "22-03-18 09:26:47 INFO     Stitching images | Ch: 5cy5, Exp: 500, Overlap: 0.05, Rot: 0\n",
      "22-03-18 09:27:22 INFO     Stitching images | Ch: 2bf, Exp: 500, Overlap: 0.05, Rot: 0\n",
      "22-03-18 09:27:44 INFO     Stitching images | Ch: 5cy5, Exp: 500, Overlap: 0.05, Rot: 0\n",
      "22-03-18 09:28:17 INFO     Stitching images | Ch: 2bf, Exp: 500, Overlap: 0.05, Rot: 0\n",
      "22-03-18 09:28:47 INFO     Stitching images | Ch: 5cy5, Exp: 500, Overlap: 0.05, Rot: 0\n",
      "22-03-18 09:29:20 INFO     Stitching images | Ch: 2bf, Exp: 500, Overlap: 0.05, Rot: 0\n",
      "22-03-18 09:29:44 INFO     Stitching images | Ch: 5cy5, Exp: 500, Overlap: 0.05, Rot: 0\n",
      "22-03-18 09:30:14 INFO     Stitching images | Ch: 2bf, Exp: 500, Overlap: 0.05, Rot: 0\n",
      "22-03-18 09:30:40 INFO     Stitching images | Ch: 5cy5, Exp: 500, Overlap: 0.05, Rot: 0\n",
      "22-03-18 09:31:07 INFO     Stitching images | Ch: 2bf, Exp: 500, Overlap: 0.05, Rot: 0\n",
      "22-03-18 09:31:36 INFO     Stitching images | Ch: 5cy5, Exp: 500, Overlap: 0.05, Rot: 0\n",
      "22-03-18 09:32:06 INFO     Stitching images | Ch: 2bf, Exp: 500, Overlap: 0.05, Rot: 0\n",
      "22-03-18 09:32:40 INFO     Stitching images | Ch: 5cy5, Exp: 500, Overlap: 0.05, Rot: 0\n",
      "22-03-18 09:33:04 INFO     Stitching images | Ch: 2bf, Exp: 500, Overlap: 0.05, Rot: 0\n",
      "22-03-18 09:33:37 INFO     Stitching images | Ch: 5cy5, Exp: 500, Overlap: 0.05, Rot: 0\n",
      "22-03-18 09:34:08 INFO     Stitching images | Ch: 2bf, Exp: 500, Overlap: 0.05, Rot: 0\n",
      "22-03-18 09:34:31 INFO     Stitching images | Ch: 5cy5, Exp: 500, Overlap: 0.05, Rot: 0\n",
      "22-03-18 09:34:55 INFO     Stitching images | Ch: 2bf, Exp: 500, Overlap: 0.05, Rot: 0\n",
      "22-03-18 09:35:35 INFO     Stitching images | Ch: 5cy5, Exp: 500, Overlap: 0.05, Rot: 0\n",
      "22-03-18 09:36:13 INFO     Stitching images | Ch: 2bf, Exp: 500, Overlap: 0.05, Rot: 0\n",
      "22-03-18 09:36:46 INFO     Stitching images | Ch: 5cy5, Exp: 500, Overlap: 0.05, Rot: 0\n",
      "22-03-18 09:37:08 INFO     Stitching images | Ch: 2bf, Exp: 500, Overlap: 0.05, Rot: 0\n",
      "22-03-18 09:37:30 INFO     Stitching images | Ch: 5cy5, Exp: 500, Overlap: 0.05, Rot: 0\n",
      "22-03-18 09:37:54 INFO     Stitching images | Ch: 2bf, Exp: 500, Overlap: 0.05, Rot: 0\n",
      "22-03-18 09:38:15 INFO     Stitching images | Ch: 5cy5, Exp: 500, Overlap: 0.05, Rot: 0\n",
      "22-03-18 09:38:43 INFO     Stitching images | Ch: 2bf, Exp: 500, Overlap: 0.05, Rot: 0\n",
      "22-03-18 09:38:58 INFO     Stitching images | Ch: 5cy5, Exp: 500, Overlap: 0.05, Rot: 0\n",
      "22-03-18 09:39:28 INFO     Stitching images | Ch: 2bf, Exp: 500, Overlap: 0.05, Rot: 0\n",
      "22-03-18 09:39:45 INFO     Stitching images | Ch: 5cy5, Exp: 500, Overlap: 0.05, Rot: 0\n",
      "22-03-18 09:40:03 INFO     Stitching images | Ch: 2bf, Exp: 500, Overlap: 0.05, Rot: 0\n",
      "22-03-18 09:40:24 INFO     Stitching images | Ch: 5cy5, Exp: 500, Overlap: 0.05, Rot: 0\n",
      "22-03-18 09:40:46 INFO     Stitching images | Ch: 2bf, Exp: 500, Overlap: 0.05, Rot: 0\n",
      "22-03-18 09:41:10 INFO     Stitching images | Ch: 5cy5, Exp: 500, Overlap: 0.05, Rot: 0\n",
      "22-03-18 09:41:27 INFO     Stitching images | Ch: 2bf, Exp: 500, Overlap: 0.05, Rot: 0\n",
      "22-03-18 09:41:53 INFO     Stitching images | Ch: 5cy5, Exp: 500, Overlap: 0.05, Rot: 0\n",
      "22-03-18 09:42:15 INFO     Stitching images | Ch: 2bf, Exp: 500, Overlap: 0.05, Rot: 0\n",
      "22-03-18 09:42:40 INFO     Stitching images | Ch: 5cy5, Exp: 500, Overlap: 0.05, Rot: 0\n",
      "22-03-18 09:42:58 INFO     Stitching images | Ch: 2bf, Exp: 500, Overlap: 0.05, Rot: 0\n",
      "22-03-18 09:43:23 INFO     Stitching images | Ch: 5cy5, Exp: 500, Overlap: 0.05, Rot: 0\n",
      "22-03-18 09:43:39 INFO     Stitching images | Ch: 2bf, Exp: 500, Overlap: 0.05, Rot: 0\n",
      "22-03-18 09:44:05 INFO     Stitching images | Ch: 5cy5, Exp: 500, Overlap: 0.05, Rot: 0\n",
      "22-03-18 09:44:29 INFO     Stitching images | Ch: 2bf, Exp: 500, Overlap: 0.05, Rot: 0\n",
      "22-03-18 09:44:45 INFO     Stitching images | Ch: 5cy5, Exp: 500, Overlap: 0.05, Rot: 0\n",
      "22-03-18 09:45:08 INFO     Stitching images | Ch: 2bf, Exp: 500, Overlap: 0.05, Rot: 0\n",
      "22-03-18 09:45:31 INFO     Stitching images | Ch: 5cy5, Exp: 500, Overlap: 0.05, Rot: 0\n",
      "22-03-18 09:45:55 INFO     Stitching images | Ch: 2bf, Exp: 500, Overlap: 0.05, Rot: 0\n"
     ]
    },
    {
     "name": "stderr",
     "output_type": "stream",
     "text": [
      "22-03-18 09:46:23 INFO     Stitching images | Ch: 5cy5, Exp: 500, Overlap: 0.05, Rot: 0\n",
      "22-03-18 09:46:52 INFO     Stitching images | Ch: 2bf, Exp: 500, Overlap: 0.05, Rot: 0\n",
      "22-03-18 09:47:13 INFO     Stitching images | Ch: 5cy5, Exp: 500, Overlap: 0.05, Rot: 0\n",
      "22-03-18 09:47:30 INFO     Stitching images | Ch: 2bf, Exp: 500, Overlap: 0.05, Rot: 0\n",
      "22-03-18 09:47:54 INFO     Stitching images | Ch: 5cy5, Exp: 500, Overlap: 0.05, Rot: 0\n",
      "22-03-18 09:48:19 INFO     Stitching images | Ch: 2bf, Exp: 500, Overlap: 0.05, Rot: 0\n",
      "22-03-18 09:48:36 INFO     Stitching images | Ch: 5cy5, Exp: 500, Overlap: 0.05, Rot: 0\n",
      "22-03-18 09:48:56 INFO     Stitching images | Ch: 2bf, Exp: 500, Overlap: 0.05, Rot: 0\n",
      "22-03-18 09:49:19 INFO     Stitching images | Ch: 5cy5, Exp: 500, Overlap: 0.05, Rot: 0\n",
      "22-03-18 09:49:37 INFO     Stitching images | Ch: 2bf, Exp: 500, Overlap: 0.05, Rot: 0\n",
      "22-03-18 09:50:35 INFO     Stitching images | Ch: 5cy5, Exp: 500, Overlap: 0.05, Rot: 0\n",
      "22-03-18 09:50:52 INFO     Stitching images | Ch: 2bf, Exp: 500, Overlap: 0.05, Rot: 0\n",
      "22-03-18 09:51:16 INFO     Stitching images | Ch: 5cy5, Exp: 500, Overlap: 0.05, Rot: 0\n",
      "22-03-18 09:51:49 INFO     Stitching images | Ch: 2bf, Exp: 500, Overlap: 0.05, Rot: 0\n",
      "22-03-18 09:52:16 INFO     Stitching images | Ch: 5cy5, Exp: 500, Overlap: 0.05, Rot: 0\n",
      "22-03-18 09:52:35 INFO     Stitching images | Ch: 2bf, Exp: 500, Overlap: 0.05, Rot: 0\n",
      "22-03-18 09:53:01 INFO     Stitching images | Ch: 5cy5, Exp: 500, Overlap: 0.05, Rot: 0\n",
      "22-03-18 09:53:18 INFO     Stitching images | Ch: 2bf, Exp: 500, Overlap: 0.05, Rot: 0\n",
      "22-03-18 09:53:39 INFO     Stitching images | Ch: 5cy5, Exp: 500, Overlap: 0.05, Rot: 0\n",
      "22-03-18 09:53:56 INFO     Stitching images | Ch: 2bf, Exp: 500, Overlap: 0.05, Rot: 0\n",
      "22-03-18 09:54:13 INFO     Stitching images | Ch: 5cy5, Exp: 500, Overlap: 0.05, Rot: 0\n",
      "22-03-18 09:54:36 INFO     Stitching images | Ch: 2bf, Exp: 500, Overlap: 0.05, Rot: 0\n"
     ]
    }
   ],
   "source": [
    "multiImagePath = '/scratch/users/aadams0/raw_imaging_data/new/repeat_4230_P53_ARID1A_20200227/A1'\n",
    "\n",
    "p = stitcher.RasterParams(multiImagePath, 'ipnb', 0.05, 500, '2bf', 3, autoFF = False)\n",
    "stitcher.walkAndStitch(multiImagePath, p, stitchtype = 'single')"
   ]
  },
  {
   "cell_type": "markdown",
   "metadata": {},
   "source": [
    "## BG Subtract"
   ]
  },
  {
   "cell_type": "markdown",
   "metadata": {},
   "source": [
    "##### Hold the BG Images"
   ]
  },
  {
   "cell_type": "code",
   "execution_count": null,
   "metadata": {
    "collapsed": true
   },
   "outputs": [],
   "source": [
    "bg = stitcher.BackgroundImages()"
   ]
  },
  {
   "cell_type": "markdown",
   "metadata": {},
   "source": [
    "###### Define Paths"
   ]
  },
  {
   "cell_type": "code",
   "execution_count": null,
   "metadata": {
    "collapsed": true
   },
   "outputs": [],
   "source": [
    "# Reference Background Images\n",
    "backgroundsRootD1 = '/media/dmokhtari/Atlas-HDD/eMITOMI_Workup/Setup3/180614_NewPipeline/Backgrounds/20180614-154530-d1_Background/4egfp/StitchedImages/StitchedImg_500_4egfp_0.tif'\n",
    "backgroundsRootD2 = '/media/dmokhtari/Atlas-HDD/eMITOMI_Workup/Setup3/180614_NewPipeline/Backgrounds/20180614-154837-d2_Background/4egfp/StitchedImages/StitchedImg_500_4egfp_0.tif'"
   ]
  },
  {
   "cell_type": "markdown",
   "metadata": {},
   "source": [
    "##### Add the Images"
   ]
  },
  {
   "cell_type": "code",
   "execution_count": null,
   "metadata": {
    "collapsed": true
   },
   "outputs": [],
   "source": [
    "bg.add(backgroundsRootD1, 'd1', '4egfp', 500)\n",
    "bg.add(backgroundsRootD2, 'd2', '4egfp', 500)"
   ]
  },
  {
   "cell_type": "markdown",
   "metadata": {},
   "source": [
    "##### Define Target"
   ]
  },
  {
   "cell_type": "code",
   "execution_count": null,
   "metadata": {
    "collapsed": true
   },
   "outputs": [],
   "source": [
    "# target = '/home/eMITOMI/Analysis_Pipelines/common/ProcessorPack/Testing/180528_S3/Assays/d1_cMUP/Button_Quants/20180529-001827-d1_10uM_cMUP_PreAssay_ButtonQuant/4egfp/StitchedImages/StitchedImg_500_GFP_0.tif'\n",
    "targetRoot = '/media/dmokhtari/Atlas-HDD/eMITOMI_Workup/Setup3/180614_NewPipeline/Assays/d2_MecMUP/ButtonQuants/'"
   ]
  },
  {
   "cell_type": "markdown",
   "metadata": {},
   "source": [
    "###### Execute"
   ]
  },
  {
   "cell_type": "code",
   "execution_count": null,
   "metadata": {
    "collapsed": true
   },
   "outputs": [],
   "source": [
    "bg.walkAndBGSubtract(targetRoot, 'd2', '4egfp')"
   ]
  }
 ],
 "metadata": {
  "kernelspec": {
   "display_name": "Python 3",
   "language": "python",
   "name": "python3"
  },
  "language_info": {
   "codemirror_mode": {
    "name": "ipython",
    "version": 3
   },
   "file_extension": ".py",
   "mimetype": "text/x-python",
   "name": "python",
   "nbconvert_exporter": "python",
   "pygments_lexer": "ipython3",
   "version": "3.6.1"
  }
 },
 "nbformat": 4,
 "nbformat_minor": 2
}
