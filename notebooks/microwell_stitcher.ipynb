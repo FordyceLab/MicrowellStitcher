{
 "cells": [
  {
   "cell_type": "markdown",
   "metadata": {},
   "source": [
    "# Image Stitcher\n",
    "___\n",
    "**Fordyce Lab**, **2019**"
   ]
  },
  {
   "cell_type": "markdown",
   "metadata": {},
   "source": [
    "## Imports"
   ]
  },
  {
   "cell_type": "code",
   "execution_count": null,
   "metadata": {
    "collapsed": true
   },
   "outputs": [],
   "source": [
    "import sys\n",
    "sys.path.insert(0, '/home/users/aadams0/microwell_code/ImageStitcher-master/')\n",
    "import pandas as pd\n",
    "from imagestitcher import stitcher"
   ]
  },
  {
   "cell_type": "markdown",
   "metadata": {},
   "source": [
    "## FF Corrections"
   ]
  },
  {
   "cell_type": "markdown",
   "metadata": {},
   "source": [
    "## Stitching Settings"
   ]
  },
  {
   "cell_type": "code",
   "execution_count": null,
   "metadata": {
    "collapsed": true,
    "scrolled": false
   },
   "outputs": [],
   "source": [
    "#optional flatfield correction parameters\n",
    "# ffPath = '/home/eMITOMI/Support_Data/FF_Correction/Setup3/180401_Setup3_FFcorr_eGFP_4s_2x2.tif'\n",
    "# ffParams = {'4egfp':{500: (201, 21663), 2000: (2778, 19086)}}\n",
    "\n",
    "settings = stitcher.StitchingSettings(ffPaths = {},\n",
    "                                        ffParams = None,\n",
    "                                        setupNum= 3,\n",
    "                                        tileDim = 1024\n",
    "                                     )\n",
    "\n",
    "settings.showFFImages(vmin = 0, vmax = 45000)"
   ]
  },
  {
   "cell_type": "code",
   "execution_count": null,
   "metadata": {
    "collapsed": true
   },
   "outputs": [],
   "source": []
  },
  {
   "cell_type": "markdown",
   "metadata": {},
   "source": [
    "## Single Image Stitching"
   ]
  },
  {
   "cell_type": "code",
   "execution_count": null,
   "metadata": {
    "scrolled": true
   },
   "outputs": [],
   "source": [
    "path = '/MicrowellStitcher/example_data/C4/20200611-175324-C4_timecourse/2bf/20200611-175324_timecourse_2bf'\n",
    "\n",
    "#change 0.05 parameter to reflect image overlap\n",
    "#change autoFF to True if using flatfield correction\n",
    "#other parameters don't need to be changed\n",
    "params = stitcher.RasterParams(path, 'ipnb', 0.05, 500, '2bf', 3, autoFF = False)\n",
    "stitcher.stitchImage(path, params)"
   ]
  },
  {
   "cell_type": "markdown",
   "metadata": {},
   "source": [
    "## Multi-Folder Stitching"
   ]
  },
  {
   "cell_type": "code",
   "execution_count": null,
   "metadata": {},
   "outputs": [],
   "source": [
    "multiImagePath = '/MicrowellStitcher/example_data/C4'\n",
    "\n",
    "#change 0.05 parameter to reflect image overlap\n",
    "#change autoFF to True if using flatfield correction\n",
    "#other parameters don't need to be changed\n",
    "p = stitcher.RasterParams(multiImagePath, 'ipnb', 0.05, 500, '2bf', 3, autoFF = False)\n",
    "stitcher.walkAndStitch(multiImagePath, p, stitchtype = 'single')"
   ]
  },
  {
   "cell_type": "markdown",
   "metadata": {},
   "source": [
    "## BG Subtract"
   ]
  },
  {
   "cell_type": "markdown",
   "metadata": {},
   "source": [
    "##### Hold the BG Images"
   ]
  },
  {
   "cell_type": "code",
   "execution_count": null,
   "metadata": {
    "collapsed": true
   },
   "outputs": [],
   "source": [
    "bg = stitcher.BackgroundImages()"
   ]
  },
  {
   "cell_type": "markdown",
   "metadata": {},
   "source": [
    "###### Define Paths"
   ]
  },
  {
   "cell_type": "code",
   "execution_count": null,
   "metadata": {
    "collapsed": true
   },
   "outputs": [],
   "source": [
    "# Reference Background Images\n",
    "backgroundsRootD1 = '/media/dmokhtari/Atlas-HDD/eMITOMI_Workup/Setup3/180614_NewPipeline/Backgrounds/20180614-154530-d1_Background/4egfp/StitchedImages/StitchedImg_500_4egfp_0.tif'\n",
    "backgroundsRootD2 = '/media/dmokhtari/Atlas-HDD/eMITOMI_Workup/Setup3/180614_NewPipeline/Backgrounds/20180614-154837-d2_Background/4egfp/StitchedImages/StitchedImg_500_4egfp_0.tif'"
   ]
  },
  {
   "cell_type": "markdown",
   "metadata": {},
   "source": [
    "##### Add the Images"
   ]
  },
  {
   "cell_type": "code",
   "execution_count": null,
   "metadata": {
    "collapsed": true
   },
   "outputs": [],
   "source": [
    "bg.add(backgroundsRootD1, 'd1', '4egfp', 500)\n",
    "bg.add(backgroundsRootD2, 'd2', '4egfp', 500)"
   ]
  },
  {
   "cell_type": "markdown",
   "metadata": {},
   "source": [
    "##### Define Target"
   ]
  },
  {
   "cell_type": "code",
   "execution_count": null,
   "metadata": {
    "collapsed": true
   },
   "outputs": [],
   "source": [
    "# target = '/home/eMITOMI/Analysis_Pipelines/common/ProcessorPack/Testing/180528_S3/Assays/d1_cMUP/Button_Quants/20180529-001827-d1_10uM_cMUP_PreAssay_ButtonQuant/4egfp/StitchedImages/StitchedImg_500_GFP_0.tif'\n",
    "targetRoot = '/media/dmokhtari/Atlas-HDD/eMITOMI_Workup/Setup3/180614_NewPipeline/Assays/d2_MecMUP/ButtonQuants/'"
   ]
  },
  {
   "cell_type": "markdown",
   "metadata": {},
   "source": [
    "###### Execute"
   ]
  },
  {
   "cell_type": "code",
   "execution_count": null,
   "metadata": {
    "collapsed": true
   },
   "outputs": [],
   "source": [
    "bg.walkAndBGSubtract(targetRoot, 'd2', '4egfp')"
   ]
  }
 ],
 "metadata": {
  "kernelspec": {
   "display_name": "Python 3",
   "language": "python",
   "name": "python3"
  },
  "language_info": {
   "codemirror_mode": {
    "name": "ipython",
    "version": 3
   },
   "file_extension": ".py",
   "mimetype": "text/x-python",
   "name": "python",
   "nbconvert_exporter": "python",
   "pygments_lexer": "ipython3",
   "version": "3.6.1"
  }
 },
 "nbformat": 4,
 "nbformat_minor": 2
}
